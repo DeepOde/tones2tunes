{
 "cells": [
  {
   "cell_type": "code",
   "execution_count": 6,
   "id": "derived-dining",
   "metadata": {},
   "outputs": [],
   "source": [
    "#!pip install pretty_midi  # Uncomment to install prett_midi\n",
    "import pretty_midi\n",
    "import numpy as np"
   ]
  },
  {
   "cell_type": "code",
   "execution_count": 31,
   "id": "peaceful-irish",
   "metadata": {},
   "outputs": [],
   "source": [
    "def get_tones(midi_path: str, fs: float):\n",
    "    \"\"\"\n",
    "    Get a dictionary mapping (time)frame to a (list of) notes played at that time in a song at midi_path.\n",
    "    \"\"\"\n",
    "    \n",
    "    \n",
    "    midi_data = pretty_midi.PrettyMIDI(midi_path)\n",
    "    piano_data = midi_data.instruments[0]  # Select piano instrument.\n",
    "    \n",
    "    # Piano roll is a 2d list where 1st dimension is notes (128 possible notes, see MIDI numbers) and\n",
    "    # other dimension is frame number. Total number of frames is decided by duration of the song and\n",
    "    # sampling frequency, fs. (piano_roll[i][j] is velocity?)\n",
    "    piano_roll = piano_data.get_piano_roll(fs = fs)\n",
    "    \n",
    "    # If a note is playing, its velocity would be greater than 0.\n",
    "    indices = np.where(piano_roll > 0)  # List of 2 lists, one for each dimension of piano_roll.\n",
    "    # If indices[0][k] = i and indices[1][k] = j, then piano_roll[i][j] > 0 i.e. ith note is playing in jth frame.\n",
    "    \n",
    "    frames = np.unique(indices[1])  # Frames in which music is playing. \n",
    "    \n",
    "    frame_notes = {}  # Frame -> List of nodes played in that frame.\n",
    "    \n",
    "    for frame in frames:\n",
    "        frame_notes[frame] = indices[0][np.where(indices[1] == frame)].astype(np.uint8)  # List of notes played in frame.\n",
    "    \n",
    "    return frame_notes"
   ]
  },
  {
   "cell_type": "code",
   "execution_count": 32,
   "id": "revolutionary-development",
   "metadata": {},
   "outputs": [],
   "source": [
    "def get_train_test(frame_notes: dict[int, list[int]], seq_len):\n",
    "    \"\"\"\n",
    "    Get list of training and testing samples from given frame_notes dictionary.\n",
    "    \"\"\"\n",
    "    \n",
    "    if len(frame_notes.keys()) == 0:\n",
    "        return [], []\n",
    "    \n",
    "    \n",
    "    train, test = [], []\n",
    "    start_frame, end_frame = min(frame_notes.keys()), max(frame_notes.keys())\n",
    "    exit = False\n",
    "    ## Adding [e e e ... start].....[start....start+seq_len]\n",
    "    for n_empty in range(seq_len - 1, -1, -1):   \n",
    "        train_sample = ['e'] * n_empty\n",
    "        for frame in range(start_frame, start_frame + seq_len - n_empty):\n",
    "            if frame >= end_frame:\n",
    "                # We cannot create any more test cases.\n",
    "                exit = True\n",
    "                break\n",
    "            train_sample_notes = frame_notes.get(frame, ['e'])\n",
    "            train_sample.append(','.join(str(note) for note in train_sample_notes))    \n",
    "        \n",
    "        if exit: \n",
    "            break\n",
    "        \n",
    "        train.append(train_sample)\n",
    "        \n",
    "        test_sample_notes = frame_notes.get(start_frame + seq_len - n_empty, ['e'])\n",
    "        test.append(','.join(str(note) for note in test_sample_notes))\n",
    "            \n",
    "    if exit:\n",
    "        return train, test\n",
    "    \n",
    "    ## Adding [start+1....start+seq_len+1]...[end-seq_len-1....end-1]\n",
    "    \n",
    "    for begin in range(start_frame + 1, end_frame - seq_len - 1):\n",
    "        train_sample = []\n",
    "        for frame in range(begin, begin + seq_len):\n",
    "            if frame >= end_frame:\n",
    "                exit = True\n",
    "                break\n",
    "            train_sample_notes = frame_notes.get(frame, ['e'])\n",
    "            train_sample.append(','.join(str(note) for note in train_sample_notes))\n",
    "            \n",
    "        if exit:\n",
    "            break\n",
    "            \n",
    "        train.append(train_sample)\n",
    "        \n",
    "        test_sample_notes = frame_notes.get(begin + seq_len, ['e'])\n",
    "        test.append(','.join(str(note) for note in test_sample_notes))\n",
    "        \n",
    "    return train, test\n",
    "        "
   ]
  },
  {
   "cell_type": "code",
   "execution_count": 33,
   "id": "wired-session",
   "metadata": {},
   "outputs": [
    {
     "name": "stdout",
     "output_type": "stream",
     "text": [
      "7990 7990\n"
     ]
    }
   ],
   "source": [
    "gt = get_tones('data/MIDI-Unprocessed_SMF_02_R1_2004_01-05_ORIG_MID--AUDIO_02_R1_2004_06_Track06_wav.midi', fs = 30)\n",
    "tr, ts = get_train_test(gt, 5)\n",
    "print(len(tr), len(ts))"
   ]
  }
 ],
 "metadata": {
  "kernelspec": {
   "display_name": "Python 3",
   "language": "python",
   "name": "python3"
  },
  "language_info": {
   "codemirror_mode": {
    "name": "ipython",
    "version": 3
   },
   "file_extension": ".py",
   "mimetype": "text/x-python",
   "name": "python",
   "nbconvert_exporter": "python",
   "pygments_lexer": "ipython3",
   "version": "3.9.2"
  }
 },
 "nbformat": 4,
 "nbformat_minor": 5
}
