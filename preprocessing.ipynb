{
 "cells": [
  {
   "cell_type": "code",
   "execution_count": 9,
   "id": "derived-dining",
   "metadata": {},
   "outputs": [],
   "source": [
    "#!pip install pretty_midi  # Uncomment to install prett_midi\n",
    "import pretty_midi\n",
    "import numpy as np\n",
    "import os"
   ]
  },
  {
   "cell_type": "code",
   "execution_count": 2,
   "id": "peaceful-irish",
   "metadata": {},
   "outputs": [],
   "source": [
    "def get_tones(midi_path: str, fs: float):\n",
    "    \"\"\"\n",
    "    Get a dictionary mapping (time)frame to a (list of) notes played at that time in a song at midi_path.\n",
    "    \"\"\"\n",
    "    \n",
    "    \n",
    "    midi_data = pretty_midi.PrettyMIDI(midi_path)\n",
    "    piano_data = midi_data.instruments[0]  # Select piano instrument.\n",
    "    \n",
    "    # Piano roll is a 2d list where 1st dimension is notes (128 possible notes, see MIDI numbers) and\n",
    "    # other dimension is frame number. Total number of frames is decided by duration of the song and\n",
    "    # sampling frequency, fs. (piano_roll[i][j] is velocity?)\n",
    "    piano_roll = piano_data.get_piano_roll(fs = fs)\n",
    "    \n",
    "    # If a note is playing, its velocity would be greater than 0.\n",
    "    indices = np.where(piano_roll > 0)  # List of 2 lists, one for each dimension of piano_roll.\n",
    "    # If indices[0][k] = i and indices[1][k] = j, then piano_roll[i][j] > 0 i.e. ith note is playing in jth frame.\n",
    "    \n",
    "    frames = np.unique(indices[1])  # Frames in which music is playing. \n",
    "    \n",
    "    frame_notes = {}  # Frame -> List of nodes played in that frame.\n",
    "    \n",
    "    for frame in frames:\n",
    "        frame_notes[frame] = indices[0][np.where(indices[1] == frame)].astype(np.uint8)  # List of notes played in frame.\n",
    "    \n",
    "    return frame_notes"
   ]
  },
  {
   "cell_type": "code",
   "execution_count": 30,
   "id": "revolutionary-development",
   "metadata": {},
   "outputs": [],
   "source": [
    "def get_samples(frame_notes: dict[int, list[int]], seq_len):\n",
    "    \"\"\"\n",
    "    Get list of samples from given frame_notes dictionary as a tuple of (input, output).\n",
    "    \"\"\"\n",
    "    \n",
    "    if len(frame_notes.keys()) == 0:\n",
    "        return [], []\n",
    "    \n",
    "    \n",
    "    ip, op = [], []\n",
    "    start_frame, end_frame = min(frame_notes.keys()), max(frame_notes.keys())\n",
    "    exit = False\n",
    "    ## Adding [e e e ... start].....[start....start+seq_len]\n",
    "    for n_empty in range(seq_len - 1, -1, -1):   \n",
    "        ip_sample = ['e'] * n_empty\n",
    "        for frame in range(start_frame, start_frame + seq_len - n_empty):\n",
    "            if frame >= end_frame:\n",
    "                # We cannot create any more test cases.\n",
    "                exit = True\n",
    "                break\n",
    "            ip_sample_notes = frame_notes.get(frame, ['e'])\n",
    "            ip_sample.append(','.join(str(note) for note in ip_sample_notes))    \n",
    "        \n",
    "        if exit: \n",
    "            break\n",
    "        \n",
    "        ip.append(ip_sample)\n",
    "        \n",
    "        op_sample_notes = frame_notes.get(start_frame + seq_len - n_empty, ['e'])\n",
    "        op.append(','.join(str(note) for note in op_sample_notes))\n",
    "            \n",
    "    if exit:\n",
    "        return ip, op\n",
    "    \n",
    "    ## Adding [start+1....start+seq_len+1]...[end-seq_len-1....end-1]\n",
    "    \n",
    "    for begin in range(start_frame + 1, end_frame - seq_len - 1):\n",
    "        ip_sample = []\n",
    "        for frame in range(begin, begin + seq_len):\n",
    "            if frame >= end_frame:\n",
    "                exit = True\n",
    "                break\n",
    "            ip_sample_notes = frame_notes.get(frame, ['e'])\n",
    "            ip_sample.append(','.join(str(note) for note in ip_sample_notes))\n",
    "            \n",
    "        if exit:\n",
    "            break\n",
    "            \n",
    "        ip.append(ip_sample)\n",
    "        \n",
    "        op_sample_notes = frame_notes.get(begin + seq_len, ['e'])\n",
    "        op.append(','.join(str(note) for note in op_sample_notes))\n",
    "        \n",
    "    return ip, op\n",
    "        "
   ]
  },
  {
   "cell_type": "code",
   "execution_count": 49,
   "id": "wired-session",
   "metadata": {},
   "outputs": [],
   "source": [
    "def get_train_test(path_train: str, path_test: str, fs: float, seq_len: int):\n",
    "    \"\"\"\n",
    "    Load training and testing samples using all .midi files stored in\n",
    "    directories given by path_train and path_test respectively.  \n",
    "    \"\"\"\n",
    "    \n",
    "    X_train, X_test, y_train, y_test = [], [], [], []\n",
    "    \n",
    "    for filename in os.listdir(path_train):\n",
    "        if filename.endswith(\".midi\"):\n",
    "            print(\"Processing {}\".format(filename))\n",
    "            tones = get_tones(os.path.join(path_train, filename), fs)\n",
    "            samples = get_samples(tones, seq_len)\n",
    "            X_train += samples[0]\n",
    "            y_train += samples[1]\n",
    "            \n",
    "    for filename in os.listdir(path_test):\n",
    "        if filename.endswith(\".midi\"):\n",
    "            print(\"Processing {}\".format(filename))\n",
    "            tones = get_tones(os.path.join(path_test, filename), fs)\n",
    "            samples = get_samples(tones, seq_len)\n",
    "            X_test += samples[0]\n",
    "            y_test += samples[1]\n",
    "            \n",
    "    return X_train, X_test, y_train, y_test"
   ]
  },
  {
   "cell_type": "code",
   "execution_count": 50,
   "id": "opened-burton",
   "metadata": {
    "scrolled": false
   },
   "outputs": [
    {
     "name": "stdout",
     "output_type": "stream",
     "text": [
      "Processing MIDI-Unprocessed_SMF_02_R1_2004_01-05_ORIG_MID--AUDIO_02_R1_2004_05_Track05_wav.midi\n",
      "Processing MIDI-Unprocessed_SMF_02_R1_2004_01-05_ORIG_MID--AUDIO_02_R1_2004_06_Track06_wav.midi\n",
      "Processing MIDI-Unprocessed_SMF_02_R1_2004_01-05_ORIG_MID--AUDIO_02_R1_2004_08_Track08_wav.midi\n",
      "Processing MIDI-Unprocessed_SMF_05_R1_2004_01_ORIG_MID--AUDIO_05_R1_2004_02_Track02_wav.midi\n",
      "Processing MIDI-Unprocessed_SMF_05_R1_2004_01_ORIG_MID--AUDIO_05_R1_2004_03_Track03_wav.midi\n",
      "Processing MIDI-Unprocessed_SMF_07_R1_2004_01_ORIG_MID--AUDIO_07_R1_2004_02_Track02_wav.midi\n",
      "Processing MIDI-Unprocessed_SMF_07_R1_2004_01_ORIG_MID--AUDIO_07_R1_2004_04_Track04_wav.midi\n",
      "Processing MIDI-Unprocessed_SMF_07_R1_2004_01_ORIG_MID--AUDIO_07_R1_2004_06_Track06_wav.midi\n",
      "Processing MIDI-Unprocessed_SMF_12_01_2004_01-05_ORIG_MID--AUDIO_12_R1_2004_03_Track03_wav--1.midi\n",
      "Processing MIDI-Unprocessed_SMF_12_01_2004_01-05_ORIG_MID--AUDIO_12_R1_2004_07_Track07_wav.midi\n",
      "Processing MIDI-Unprocessed_SMF_12_01_2004_01-05_ORIG_MID--AUDIO_12_R1_2004_08_Track08_wav.midi\n",
      "Processing MIDI-Unprocessed_SMF_12_01_2004_01-05_ORIG_MID--AUDIO_12_R1_2004_09_Track09_wav.midi\n",
      "Processing MIDI-Unprocessed_SMF_02_R1_2004_01-05_ORIG_MID--AUDIO_02_R1_2004_10_Track10_wav.midi\n",
      "Processing MIDI-Unprocessed_SMF_05_R1_2004_02-03_ORIG_MID--AUDIO_05_R1_2004_06_Track06_wav.midi\n",
      "Processing MIDI-Unprocessed_SMF_07_R1_2004_01_ORIG_MID--AUDIO_07_R1_2004_12_Track12_wav.midi\n",
      "Processing MIDI-Unprocessed_SMF_12_01_2004_01-05_ORIG_MID--AUDIO_12_R1_2004_10_Track10_wav.midi\n",
      "227308 68311 227308 68311\n"
     ]
    }
   ],
   "source": [
    "train_dir = \"data/train\"\n",
    "test_dir = \"data/test\"\n",
    "f_sample = 30\n",
    "seq_length = 50\n",
    "\n",
    "X_train, X_test, y_train, y_test = get_train_test(train_dir, test_dir, f_sample, seq_length)\n",
    "\n",
    "# Correctness checkpoint\n",
    "# print(len(X_train), len(X_test), len(y_train), len(y_test))\n"
   ]
  },
  {
   "cell_type": "code",
   "execution_count": 53,
   "id": "extraordinary-development",
   "metadata": {
    "scrolled": true
   },
   "outputs": [
    {
     "name": "stdout",
     "output_type": "stream",
     "text": [
      "['e', 'e', 'e', 'e', 'e', 'e', 'e', 'e', 'e', 'e', 'e', 'e', 'e', 'e', 'e', 'e', 'e', 'e', 'e', 'e', 'e', 'e', 'e', 'e', 'e', 'e', 'e', 'e', 'e', 'e', 'e', 'e', 'e', 'e', 'e', 'e', 'e', 'e', 'e', 'e', 'e', 'e', 'e', 'e', 'e', 'e', 'e', 'e', 'e', '71'] 71 ['e', 'e', 'e', 'e', 'e', 'e', 'e', 'e', 'e', 'e', 'e', 'e', 'e', 'e', 'e', 'e', 'e', 'e', 'e', 'e', 'e', 'e', 'e', 'e', 'e', 'e', 'e', 'e', 'e', 'e', 'e', 'e', 'e', 'e', 'e', 'e', 'e', 'e', 'e', 'e', 'e', 'e', 'e', 'e', 'e', 'e', 'e', 'e', '71', '71'] 71\n"
     ]
    }
   ],
   "source": [
    "# Correctness checkpoint.\n",
    "# print(X_train[0], y_train[0], X_train[1], y_train[1])"
   ]
  }
 ],
 "metadata": {
  "kernelspec": {
   "display_name": "Python 3",
   "language": "python",
   "name": "python3"
  },
  "language_info": {
   "codemirror_mode": {
    "name": "ipython",
    "version": 3
   },
   "file_extension": ".py",
   "mimetype": "text/x-python",
   "name": "python",
   "nbconvert_exporter": "python",
   "pygments_lexer": "ipython3",
   "version": "3.9.2"
  }
 },
 "nbformat": 4,
 "nbformat_minor": 5
}
