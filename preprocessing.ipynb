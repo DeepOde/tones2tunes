{
  "nbformat": 4,
  "nbformat_minor": 5,
  "metadata": {
    "kernelspec": {
      "display_name": "Python 3",
      "language": "python",
      "name": "python3"
    },
    "language_info": {
      "codemirror_mode": {
        "name": "ipython",
        "version": 3
      },
      "file_extension": ".py",
      "mimetype": "text/x-python",
      "name": "python",
      "nbconvert_exporter": "python",
      "pygments_lexer": "ipython3",
      "version": "3.9.2"
    },
    "colab": {
      "name": "preprocessing.ipynb",
      "provenance": [],
      "include_colab_link": true
    }
  },
  "cells": [
    {
      "cell_type": "markdown",
      "metadata": {
        "id": "view-in-github",
        "colab_type": "text"
      },
      "source": [
        "<a href=\"https://colab.research.google.com/github/DeepOde/tones2tunes/blob/main/preprocessing.ipynb\" target=\"_parent\"><img src=\"https://colab.research.google.com/assets/colab-badge.svg\" alt=\"Open In Colab\"/></a>"
      ]
    },
    {
      "cell_type": "code",
      "metadata": {
        "id": "derived-dining"
      },
      "source": [
        "#!pip install pretty_midi  # Uncomment to install prett_midi\n",
        "import pretty_midi\n",
        "import numpy as np\n",
        "import os"
      ],
      "id": "derived-dining",
      "execution_count": 15,
      "outputs": []
    },
    {
      "cell_type": "code",
      "metadata": {
        "id": "peaceful-irish"
      },
      "source": [
        "def get_tones(midi_path: str, fs: float):\n",
        "    \"\"\"\n",
        "    Get a dictionary mapping (time)frame to a (list of) notes played at that time in a song at midi_path.\n",
        "    \"\"\"\n",
        "    \n",
        "    \n",
        "    midi_data = pretty_midi.PrettyMIDI(midi_path)\n",
        "    piano_data = midi_data.instruments[0]  # Select piano instrument.\n",
        "    \n",
        "    # Piano roll is a 2d list where 1st dimension is notes (128 possible notes, see MIDI numbers) and\n",
        "    # other dimension is frame number. Total number of frames is decided by duration of the song and\n",
        "    # sampling frequency, fs. (piano_roll[i][j] is velocity?)\n",
        "    piano_roll = piano_data.get_piano_roll(fs = fs)\n",
        "    \n",
        "    # If a note is playing, its velocity would be greater than 0.\n",
        "    indices = np.where(piano_roll > 0)  # List of 2 lists, one for each dimension of piano_roll.\n",
        "    # If indices[0][k] = i and indices[1][k] = j, then piano_roll[i][j] > 0 i.e. ith note is playing in jth frame.\n",
        "    \n",
        "    frames = np.unique(indices[1])  # Frames in which music is playing. \n",
        "    \n",
        "    frame_notes = {}  # Frame -> List of nodes played in that frame.\n",
        "    \n",
        "    for frame in frames:\n",
        "        frame_notes[frame] = indices[0][np.where(indices[1] == frame)].astype(np.uint8)  # List of notes played in frame.\n",
        "    \n",
        "    return frame_notes"
      ],
      "id": "peaceful-irish",
      "execution_count": 16,
      "outputs": []
    },
    {
      "cell_type": "code",
      "metadata": {
        "id": "revolutionary-development"
      },
      "source": [
        "def get_samples(frame_notes, seq_len):\n",
        "    \"\"\"\n",
        "    Get list of samples from given frame_notes dictionary as a tuple of (input, output).\n",
        "    \"\"\"\n",
        "    \n",
        "    if len(frame_notes.keys()) == 0:\n",
        "        return [], []\n",
        "    \n",
        "    \n",
        "    ip, op = [], []\n",
        "    start_frame, end_frame = min(frame_notes.keys()), max(frame_notes.keys())\n",
        "    exit = False\n",
        "    ## Adding [e e e ... start].....[start....start+seq_len]\n",
        "    for n_empty in range(seq_len - 1, -1, -1):   \n",
        "        ip_sample = ['e'] * n_empty\n",
        "        for frame in range(start_frame, start_frame + seq_len - n_empty):\n",
        "            if frame >= end_frame:\n",
        "                # We cannot create any more test cases.\n",
        "                exit = True\n",
        "                break\n",
        "            ip_sample_notes = frame_notes.get(frame, ['e'])\n",
        "            ip_sample.append(','.join(str(note) for note in ip_sample_notes))    \n",
        "        \n",
        "        if exit: \n",
        "            break\n",
        "        \n",
        "        ip.append(ip_sample)\n",
        "        \n",
        "        op_sample_notes = frame_notes.get(start_frame + seq_len - n_empty, ['e'])\n",
        "        op.append(','.join(str(note) for note in op_sample_notes))\n",
        "            \n",
        "    if exit:\n",
        "        return ip, op\n",
        "    \n",
        "    ## Adding [start+1....start+seq_len+1]...[end-seq_len-1....end-1]\n",
        "    \n",
        "    for begin in range(start_frame + 1, end_frame - seq_len - 1):\n",
        "        ip_sample = []\n",
        "        for frame in range(begin, begin + seq_len):\n",
        "            if frame >= end_frame:\n",
        "                exit = True\n",
        "                break\n",
        "            ip_sample_notes = frame_notes.get(frame, ['e'])\n",
        "            ip_sample.append(','.join(str(note) for note in ip_sample_notes))\n",
        "            \n",
        "        if exit:\n",
        "            break\n",
        "            \n",
        "        ip.append(ip_sample)\n",
        "        \n",
        "        op_sample_notes = frame_notes.get(begin + seq_len, ['e'])\n",
        "        op.append(','.join(str(note) for note in op_sample_notes))\n",
        "        \n",
        "    return ip, op\n",
        "        "
      ],
      "id": "revolutionary-development",
      "execution_count": 17,
      "outputs": []
    },
    {
      "cell_type": "code",
      "metadata": {
        "id": "wired-session"
      },
      "source": [
        "def get_train_test(path_train, path_test, fs, seq_len):\n",
        "    \"\"\"\n",
        "    Load training and testing samples using all .midi files stored in\n",
        "    directories given by path_train and path_test respectively.  \n",
        "    \"\"\"\n",
        "    \n",
        "    X_train, X_test, y_train, y_test = [], [], [], []\n",
        "    \n",
        "    for filename in os.listdir(path_train):\n",
        "        if filename.endswith(\".midi\"):\n",
        "            print(\"Processing {}\".format(filename))\n",
        "            tones = get_tones(os.path.join(path_train, filename), fs)\n",
        "            samples = get_samples(tones, seq_len)\n",
        "            X_train += samples[0]\n",
        "            y_train += samples[1]\n",
        "            \n",
        "    for filename in os.listdir(path_test):\n",
        "        if filename.endswith(\".midi\"):\n",
        "            print(\"Processing {}\".format(filename))\n",
        "            tones = get_tones(os.path.join(path_test, filename), fs)\n",
        "            samples = get_samples(tones, seq_len)\n",
        "            X_test += samples[0]\n",
        "            y_test += samples[1]\n",
        "            \n",
        "    return X_train, X_test, y_train, y_test"
      ],
      "id": "wired-session",
      "execution_count": 18,
      "outputs": []
    },
    {
      "cell_type": "code",
      "metadata": {
        "scrolled": false,
        "colab": {
          "base_uri": "https://localhost:8080/"
        },
        "id": "opened-burton",
        "outputId": "03f2c0ce-10f4-4f0d-bc4f-29d9cad16ab0"
      },
      "source": [
        "train_dir = \"/content/drive/MyDrive/dsproject/tones2tunes/data/train\"\n",
        "test_dir = \"/content/drive/MyDrive/dsproject/tones2tunes/data/test\"\n",
        "f_sample = 30\n",
        "seq_length = 50\n",
        "\n",
        "X_train, X_test, y_train, y_test = get_train_test(train_dir, test_dir, f_sample, seq_length)\n",
        "\n",
        "# Correctness checkpoint\n",
        "print(len(X_train), len(X_test), len(y_train), len(y_test))\n"
      ],
      "id": "opened-burton",
      "execution_count": 19,
      "outputs": [
        {
          "output_type": "stream",
          "text": [
            "Processing MIDI-Unprocessed_SMF_02_R1_2004_01-05_ORIG_MID--AUDIO_02_R1_2004_05_Track05_wav.midi\n",
            "Processing MIDI-Unprocessed_SMF_02_R1_2004_01-05_ORIG_MID--AUDIO_02_R1_2004_06_Track06_wav.midi\n",
            "Processing MIDI-Unprocessed_SMF_02_R1_2004_01-05_ORIG_MID--AUDIO_02_R1_2004_08_Track08_wav.midi\n",
            "Processing MIDI-Unprocessed_SMF_05_R1_2004_01_ORIG_MID--AUDIO_05_R1_2004_02_Track02_wav.midi\n",
            "Processing MIDI-Unprocessed_SMF_05_R1_2004_01_ORIG_MID--AUDIO_05_R1_2004_03_Track03_wav.midi\n",
            "Processing MIDI-Unprocessed_SMF_07_R1_2004_01_ORIG_MID--AUDIO_07_R1_2004_02_Track02_wav.midi\n",
            "Processing MIDI-Unprocessed_SMF_07_R1_2004_01_ORIG_MID--AUDIO_07_R1_2004_04_Track04_wav.midi\n",
            "Processing MIDI-Unprocessed_SMF_07_R1_2004_01_ORIG_MID--AUDIO_07_R1_2004_06_Track06_wav.midi\n",
            "Processing MIDI-Unprocessed_SMF_12_01_2004_01-05_ORIG_MID--AUDIO_12_R1_2004_03_Track03_wav--1.midi\n",
            "Processing MIDI-Unprocessed_SMF_12_01_2004_01-05_ORIG_MID--AUDIO_12_R1_2004_07_Track07_wav.midi\n",
            "Processing MIDI-Unprocessed_SMF_12_01_2004_01-05_ORIG_MID--AUDIO_12_R1_2004_08_Track08_wav.midi\n",
            "Processing MIDI-Unprocessed_SMF_12_01_2004_01-05_ORIG_MID--AUDIO_12_R1_2004_09_Track09_wav.midi\n",
            "Processing MIDI-Unprocessed_SMF_02_R1_2004_01-05_ORIG_MID--AUDIO_02_R1_2004_10_Track10_wav.midi\n",
            "Processing MIDI-Unprocessed_SMF_05_R1_2004_02-03_ORIG_MID--AUDIO_05_R1_2004_06_Track06_wav.midi\n",
            "Processing MIDI-Unprocessed_SMF_07_R1_2004_01_ORIG_MID--AUDIO_07_R1_2004_12_Track12_wav.midi\n",
            "Processing MIDI-Unprocessed_SMF_12_01_2004_01-05_ORIG_MID--AUDIO_12_R1_2004_10_Track10_wav.midi\n",
            "227308 68311 227308 68311\n"
          ],
          "name": "stdout"
        }
      ]
    },
    {
      "cell_type": "code",
      "metadata": {
        "id": "rg1lKdIkPssP"
      },
      "source": [
        ""
      ],
      "id": "rg1lKdIkPssP",
      "execution_count": 20,
      "outputs": []
    },
    {
      "cell_type": "code",
      "metadata": {
        "scrolled": true,
        "id": "extraordinary-development",
        "colab": {
          "base_uri": "https://localhost:8080/"
        },
        "outputId": "765b01d8-e20a-409f-a31f-768f50eb3508"
      },
      "source": [
        "# Correctness checkpoint.\n",
        "print(X_train[0], y_train[0], X_train[1], y_train[1])"
      ],
      "id": "extraordinary-development",
      "execution_count": 22,
      "outputs": [
        {
          "output_type": "stream",
          "text": [
            "['e', 'e', 'e', 'e', 'e', 'e', 'e', 'e', 'e', 'e', 'e', 'e', 'e', 'e', 'e', 'e', 'e', 'e', 'e', 'e', 'e', 'e', 'e', 'e', 'e', 'e', 'e', 'e', 'e', 'e', 'e', 'e', 'e', 'e', 'e', 'e', 'e', 'e', 'e', 'e', 'e', 'e', 'e', 'e', 'e', 'e', 'e', 'e', 'e', '71'] 71 ['e', 'e', 'e', 'e', 'e', 'e', 'e', 'e', 'e', 'e', 'e', 'e', 'e', 'e', 'e', 'e', 'e', 'e', 'e', 'e', 'e', 'e', 'e', 'e', 'e', 'e', 'e', 'e', 'e', 'e', 'e', 'e', 'e', 'e', 'e', 'e', 'e', 'e', 'e', 'e', 'e', 'e', 'e', 'e', 'e', 'e', 'e', 'e', '71', '71'] 71\n"
          ],
          "name": "stdout"
        }
      ]
    },
    {
      "cell_type": "code",
      "metadata": {
        "id": "oaYGiFwgzeE5"
      },
      "source": [
        "def tokenizer(X_train):\n",
        "  dic={}\n",
        "  dic2={}\n",
        "  ls=[]\n",
        "  cnt=0\n",
        "\n",
        "  for i in X_train:\n",
        "    for j in i:\n",
        "      if j in dic.keys():\n",
        "        continue\n",
        "      else:\n",
        "        dic[j]=cnt\n",
        "        dic2[cnt]=j\n",
        "        cnt+=1\n",
        "\n",
        "\n",
        "  return dic,dic2\n",
        "\n",
        "\n",
        "  \n"
      ],
      "id": "oaYGiFwgzeE5",
      "execution_count": 42,
      "outputs": []
    },
    {
      "cell_type": "code",
      "metadata": {
        "id": "57rTwDyc8kcY"
      },
      "source": [
        "d1,d2=tokenizer(X_train[0:2])"
      ],
      "id": "57rTwDyc8kcY",
      "execution_count": 43,
      "outputs": []
    },
    {
      "cell_type": "code",
      "metadata": {
        "id": "mOQsw_fN8tKo",
        "outputId": "d343b9a4-6833-48a0-e816-0a217c000f99",
        "colab": {
          "base_uri": "https://localhost:8080/"
        }
      },
      "source": [
        ""
      ],
      "id": "mOQsw_fN8tKo",
      "execution_count": 45,
      "outputs": [
        {
          "output_type": "execute_result",
          "data": {
            "text/plain": [
              "{0: 'e', 1: '71'}"
            ]
          },
          "metadata": {
            "tags": []
          },
          "execution_count": 45
        }
      ]
    }
  ]
}