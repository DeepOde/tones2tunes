{
 "cells": [
  {
   "cell_type": "code",
   "execution_count": 1,
   "id": "missing-morocco",
   "metadata": {
    "scrolled": false
   },
   "outputs": [
    {
     "name": "stdout",
     "output_type": "stream",
     "text": [
      "Checking integration with Google Colab.\n"
     ]
    }
   ],
   "source": [
    "print(\"Checking integration with Google Colab.\")"
   ]
  },
  {
   "cell_type": "code",
   "execution_count": null,
   "id": "derived-dining",
   "metadata": {},
   "outputs": [],
   "source": [
    "!pip install pretty_midi\n",
    "import pretty_midi"
   ]
  },
  {
   "cell_type": "code",
   "execution_count": 3,
   "id": "consecutive-jewelry",
   "metadata": {},
   "outputs": [
    {
     "name": "stdout",
     "output_type": "stream",
     "text": [
      "206.4516129032256\n"
     ]
    }
   ],
   "source": [
    "midi_data = pretty_midi.PrettyMIDI('data/MIDI-Unprocessed_SMF_02_R1_2004_01-05_ORIG_MID--AUDIO_02_R1_2004_06_Track06_wav.midi')\n",
    "# Print an empirical estimate of its global tempo\n",
    "print(midi_data.estimate_tempo())"
   ]
  }
 ],
 "metadata": {
  "kernelspec": {
   "display_name": "Python 3",
   "language": "python",
   "name": "python3"
  },
  "language_info": {
   "codemirror_mode": {
    "name": "ipython",
    "version": 3
   },
   "file_extension": ".py",
   "mimetype": "text/x-python",
   "name": "python",
   "nbconvert_exporter": "python",
   "pygments_lexer": "ipython3",
   "version": "3.9.2"
  }
 },
 "nbformat": 4,
 "nbformat_minor": 5
}
