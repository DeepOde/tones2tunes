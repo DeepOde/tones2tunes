{
 "cells": [
  {
   "cell_type": "code",
   "execution_count": 28,
   "id": "derived-dining",
   "metadata": {},
   "outputs": [],
   "source": [
    "#!pip install pretty_midi  # Uncomment to install prett_midi\n",
    "import pretty_midi\n",
    "import numpy as np\n",
    "import os\n",
    "import torch\n",
    "import random\n",
    "from torch.utils.data._utils.collate import default_convert"
   ]
  },
  {
   "cell_type": "code",
   "execution_count": 2,
   "id": "peaceful-irish",
   "metadata": {},
   "outputs": [],
   "source": [
    "def get_tones(midi_path: str, fs: float):\n",
    "    \"\"\"\n",
    "    Get a dictionary mapping (time)frame to a (list of) notes played at that time in a song at midi_path.\n",
    "    \"\"\"\n",
    "    \n",
    "    \n",
    "    midi_data = pretty_midi.PrettyMIDI(midi_path)\n",
    "    piano_data = midi_data.instruments[0]  # Select piano instrument.\n",
    "    \n",
    "    # Piano roll is a 2d list where 1st dimension is notes (128 possible notes, see MIDI numbers) and\n",
    "    # other dimension is frame number. Total number of frames is decided by duration of the song and\n",
    "    # sampling frequency, fs. (piano_roll[i][j] is velocity?)\n",
    "    piano_roll = piano_data.get_piano_roll(fs = fs)\n",
    "    \n",
    "    # If a note is playing, its velocity would be greater than 0.\n",
    "    indices = np.where(piano_roll > 0)  # List of 2 lists, one for each dimension of piano_roll.\n",
    "    # If indices[0][k] = i and indices[1][k] = j, then piano_roll[i][j] > 0 i.e. ith note is playing in jth frame.\n",
    "    frames = np.unique(indices[1])  # Frames in which music is playing. \n",
    "    \n",
    "    frame_notes = {}  # Frame -> List of notes played in that frame. \n",
    "    \n",
    "    for frame in frames:\n",
    "        frame_notes[frame] = indices[0][np.where(indices[1] == frame)].astype(np.uint8)  # List of notes played in frame.\n",
    "    \n",
    "    return frame_notes"
   ]
  },
  {
   "cell_type": "code",
   "execution_count": 3,
   "id": "revolutionary-development",
   "metadata": {},
   "outputs": [],
   "source": [
    "def get_sequences(frame_notes: dict[int, list[int]], seq_len):\n",
    "    \"\"\"\n",
    "    Get list of samples from given frame_notes dictionary as a tuple of (input, output).\n",
    "    \"\"\"\n",
    "    \n",
    "    if len(frame_notes.keys()) == 0:\n",
    "        return [], []\n",
    "    \n",
    "    seq_len += 1  # We will use last note in the sequences as the output.\n",
    "    \n",
    "    sequences = []\n",
    "    start_frame, end_frame = min(frame_notes.keys()), max(frame_notes.keys())\n",
    "    exit = False\n",
    "    \n",
    "    ## Adding [e e e ... start].....[start....start+seq_len]\n",
    "    for n_empty in range(seq_len - 1, -1, -1):   \n",
    "        sample = ['e'] * n_empty\n",
    "        for frame in range(start_frame, start_frame + seq_len - n_empty):\n",
    "            if frame >= end_frame:  # We cannot create any more test cases.\n",
    "                exit = True\n",
    "                break\n",
    "            sample_notes = frame_notes.get(frame, ['e'])\n",
    "            sample.append(','.join(str(note) for note in sample_notes))    \n",
    "        \n",
    "        if exit: \n",
    "            break\n",
    "        \n",
    "        sequences.append(sample)\n",
    "            \n",
    "    if exit:\n",
    "        return sequences\n",
    "    \n",
    "    ## Adding [start+1....start+seq_len+1]...[end-seq_len-1....end-1]\n",
    "    \n",
    "    for begin in range(start_frame + 1, end_frame - seq_len - 1):\n",
    "        sample = []\n",
    "        for frame in range(begin, begin + seq_len):\n",
    "            if frame >= end_frame:\n",
    "                exit = True\n",
    "                break\n",
    "            sample_notes = frame_notes.get(frame, ['e'])\n",
    "            sample.append(','.join(str(note) for note in sample_notes))\n",
    "            \n",
    "        if exit:\n",
    "            break\n",
    "            \n",
    "        sequences.append(sample)\n",
    "        \n",
    "    return sequences        "
   ]
  },
  {
   "cell_type": "code",
   "execution_count": 4,
   "id": "wired-session",
   "metadata": {},
   "outputs": [],
   "source": [
    "def get_train_test(path_train: str, path_test: str, fs: float, seq_len: int):\n",
    "    \"\"\"\n",
    "    Load training and testing samples using all .midi files stored in\n",
    "    directories given by path_train and path_test respectively.  \n",
    "    \"\"\"\n",
    "    \n",
    "    train, test = [], []\n",
    "    \n",
    "    for filename in os.listdir(path_train):\n",
    "        if filename.endswith(\".midi\"):\n",
    "            print(\"Processing {}\".format(filename))\n",
    "            tones = get_tones(os.path.join(path_train, filename), fs)\n",
    "            samples = get_sequences(tones, seq_len)\n",
    "            train += samples\n",
    "            \n",
    "    for filename in os.listdir(path_test):\n",
    "        if filename.endswith(\".midi\"):\n",
    "            print(\"Processing {}\".format(filename))\n",
    "            tones = get_tones(os.path.join(path_test, filename), fs)\n",
    "            samples = get_sequences(tones, seq_len)\n",
    "            test += samples\n",
    "            \n",
    "    return train, test"
   ]
  },
  {
   "cell_type": "code",
   "execution_count": 5,
   "id": "pregnant-gregory",
   "metadata": {},
   "outputs": [],
   "source": [
    "def tokenizer(samples):\n",
    "    tones2tokens = {}\n",
    "    tokens2tones = {}\n",
    "    cnt = 0\n",
    "\n",
    "    for sample in samples:\n",
    "        for j in sample:\n",
    "            if j not in tones2tokens.keys():\n",
    "                tones2tokens[j]=cnt\n",
    "                tokens2tones[cnt]=j\n",
    "                cnt+=1\n",
    "                \n",
    "    return tones2tokens, tokens2tones"
   ]
  },
  {
   "cell_type": "code",
   "execution_count": 6,
   "id": "velvet-closer",
   "metadata": {},
   "outputs": [],
   "source": [
    "def piano_roll_to_pretty_midi(piano_roll, fs=30, program=0):\n",
    "    '''Convert a Piano Roll array into a PrettyMidi object\n",
    "     with a single instrument.\n",
    "    Parameters\n",
    "    ----------\n",
    "    piano_roll : np.ndarray, shape=(128,frames), dtype=int\n",
    "        Piano roll of one instrument\n",
    "    fs : int\n",
    "        Sampling frequency of the columns, i.e. each column is spaced apart\n",
    "        by ``1./fs`` seconds.\n",
    "    program : int\n",
    "        The program number of the instrument.\n",
    "    Returns\n",
    "    -------\n",
    "    midi_object : pretty_midi.PrettyMIDI\n",
    "        A pretty_midi.PrettyMIDI class instance describing\n",
    "        the piano roll.\n",
    "    '''\n",
    "    notes, frames = piano_roll.shape\n",
    "    pm = pretty_midi.PrettyMIDI()\n",
    "    instrument = pretty_midi.Instrument(program=program)\n",
    "\n",
    "    # pad 1 column of zeros so we can acknowledge inital and ending events\n",
    "    piano_roll = np.pad(piano_roll, [(0, 0), (1, 1)], 'constant')\n",
    "\n",
    "    # use changes in velocities to find note on / note off events\n",
    "    velocity_changes = np.nonzero(np.diff(piano_roll).T)\n",
    "\n",
    "    # keep track on velocities and note on times\n",
    "    prev_velocities = np.zeros(notes, dtype=int)\n",
    "    note_on_time = np.zeros(notes)\n",
    "\n",
    "    for time, note in zip(*velocity_changes):\n",
    "        # use time + 1 because of padding above\n",
    "        velocity = piano_roll[note, time + 1]\n",
    "        time = time / fs\n",
    "        if velocity > 0:\n",
    "            if prev_velocities[note] == 0:\n",
    "                note_on_time[note] = time\n",
    "                prev_velocities[note] = velocity\n",
    "        else:\n",
    "            pm_note = pretty_midi.Note(\n",
    "                velocity=prev_velocities[note],\n",
    "                pitch=note,\n",
    "                start=note_on_time[note],\n",
    "                end=time)\n",
    "            instrument.notes.append(pm_note)\n",
    "            prev_velocities[note] = 0\n",
    "    pm.instruments.append(instrument)\n",
    "    return pm"
   ]
  },
  {
   "cell_type": "code",
   "execution_count": 7,
   "id": "returning-forest",
   "metadata": {},
   "outputs": [],
   "source": [
    "def create_midi(op_filename, generated_tokens, token2notes, fs, note_velocity = 100):\n",
    "    \"\"\"\n",
    "    From a given list of generated_tokens, create a playable .midi file.\n",
    "    \"\"\"\n",
    "    generated_notes = generated_tokens\n",
    "    #generated_notes = [token2notes[token] for token in generated_tokens]\n",
    "    piano_roll = np.zeros((128, len(generated_tokens)), dtype = np.int16)\n",
    "    \n",
    "    for frame, notes in enumerate(generated_notes):\n",
    "        if notes != 'e':\n",
    "            notes = notes.split(',')\n",
    "            for note in notes:\n",
    "                piano_roll[int(note)][frame] = note_velocity\n",
    "        \n",
    "    midi_data = piano_roll_to_pretty_midi(piano_roll, fs=fs)\n",
    "    \n",
    "#     for note in midi_data.instruments[0].notes:\n",
    "#         note.velocity = 100\n",
    "        \n",
    "    midi_data.write(op_filename)"
   ]
  },
  {
   "cell_type": "code",
   "execution_count": 8,
   "id": "applied-interference",
   "metadata": {},
   "outputs": [],
   "source": [
    "def get_batches(train, batch_size):\n",
    "    random.shuffle(train)\n",
    "    \n",
    "    for i in range(0, len(train), batch_size):\n",
    "        batch = train[i:i+batch_size]\n",
    "        yield batch\n"
   ]
  },
  {
   "cell_type": "code",
   "execution_count": 9,
   "id": "solid-moore",
   "metadata": {},
   "outputs": [],
   "source": [
    "def fit(samples, notes2tokens):\n",
    "    tokenized_samples = []\n",
    "\n",
    "    for sequence in train:\n",
    "        sample = []\n",
    "        for tone in sequence:\n",
    "            sample.append(notes2tokens[tone])\n",
    "    \n",
    "        tokenized_samples.append(sample)\n",
    "        \n",
    "    return tokenized_samples\n"
   ]
  },
  {
   "cell_type": "code",
   "execution_count": 10,
   "id": "curious-taste",
   "metadata": {
    "scrolled": false
   },
   "outputs": [
    {
     "name": "stdout",
     "output_type": "stream",
     "text": [
      "Processing MIDI-Unprocessed_SMF_02_R1_2004_01-05_ORIG_MID--AUDIO_02_R1_2004_05_Track05_wav.midi\n",
      "Processing MIDI-Unprocessed_SMF_02_R1_2004_01-05_ORIG_MID--AUDIO_02_R1_2004_06_Track06_wav.midi\n",
      "Processing MIDI-Unprocessed_SMF_02_R1_2004_01-05_ORIG_MID--AUDIO_02_R1_2004_10_Track10_wav.midi\n"
     ]
    }
   ],
   "source": [
    "train_dir = \"data/train\"\n",
    "test_dir = \"data/test\"\n",
    "f_sample = 30\n",
    "seq_length = 50\n",
    "\n",
    "train, test = get_train_test(train_dir, test_dir, f_sample, seq_length)\n",
    "notes2tokens, tokens2tones = tokenizer(train)\n",
    "train_tokenized = fit(train, notes2tokens)"
   ]
  },
  {
   "cell_type": "code",
   "execution_count": 25,
   "id": "greater-interim",
   "metadata": {},
   "outputs": [
    {
     "name": "stdout",
     "output_type": "stream",
     "text": [
      "51\n"
     ]
    },
    {
     "data": {
      "text/plain": [
       "37013"
      ]
     },
     "execution_count": 25,
     "metadata": {},
     "output_type": "execute_result"
    }
   ],
   "source": [
    "print(len(train_tokenized[0]))\n",
    "len(train_tokenized)"
   ]
  },
  {
   "cell_type": "code",
   "execution_count": 35,
   "id": "diverse-minority",
   "metadata": {
    "scrolled": false
   },
   "outputs": [
    {
     "name": "stdout",
     "output_type": "stream",
     "text": [
      "16 51 [224, 224, 224, 795, 795, 795, 795, 795, 795, 795, 795, 795, 795, 795, 0, 0, 389, 0, 0, 0, 224, 0, 0, 0, 0, 1, 1, 1, 1, 1, 13, 13, 1, 1, 1, 270, 1, 1, 1, 41, 0, 0, 0, 0, 183, 417, 417, 116, 1515, 41, 417]\n"
     ]
    }
   ],
   "source": [
    "## Example usage for iterating over a complete training set once (i.e. one epoch).\n",
    "for batch in torch.utils.data.DataLoader(train_tokenized, batch_size = 16, shuffle = True, collate_fn=default_convert):\n",
    "    print(len(batch), len(batch[0]), batch[0])\n",
    "    break"
   ]
  },
  {
   "cell_type": "code",
   "execution_count": 12,
   "id": "polish-entertainment",
   "metadata": {
    "scrolled": true
   },
   "outputs": [
    {
     "name": "stdout",
     "output_type": "stream",
     "text": [
      "['70', '70', '58,70', '58,79', 'e', 'e', 'e', '49,76', '49,76', 'e', 'e', 'e', '51,69', '51,69', '69', '69', '69', '54,69', '69', '69', '69', '69', '69', '57,78', 'e', 'e', 'e', '60,75', 'e', 'e', 'e', 'e', '59,68', '68', '68', '68', '68', '52,68', '52,68', '52,68', '52,68', '52,68,77', '52,68,77', '52,68,77', '52,68,77', 'e', '59,75', 'e', 'e', 'e'] e\n",
      "['47,76', '47,76', '47,76', '40,71,76', '40,76', '40,76', '43,76', '43,76', '43,76', '76', '45,72,76', '76', '76', '47,76', '47,76', '47,76', '76', '43,74,76', '43,74,76', '72,76', '47,76', '47,71,76', '47,76', '45,72,76', '45,76', '76', '47,76', '47,76', '47,76', '76', '43,74,76', '43,74,76', '72,74', '72', '47,71', '47', '72', '45', '45', 'e', '48', '48', '48', '42,81', '42', '42', '42', '42,45', '45', 'e'] 47,71,79\n",
      "['52,79', '52,79', '52,79', '52,79', '52,79', '42,52,71,79', '42,52,71,79', '42,71,79', '42,71,79', '42,71,79', '42,71,79', '42,71,79', '42,71,79', '42,71,79', '42,71,79', '42,71,79', '42,45,69,79', '42,45,69,79', '42,69,79', '42,69,79', '42,69,79', '42,69,79', '42,69,79', '42,69,79', '42,69,79', '42,69,79', '42,47,69,79', '42,47,69,79', '42,69,79', '42,69,79', '42,69,79', '42,69,79', '42,69,79', '42,69,79', '42,69,79', '42,69,79', '42,69,79', '42,49,69,79', '42,49,69,79', '42,69,79', '42,69,79', '42,69,76', '42,69,76', '42,69', '42,69', '42,69', '42,69', '42,69', '42,50,69,78', '42,50,69,78'] 42,50,69,78\n",
      "['43,59,62,67', '43,59,62,67', '43,59,62,67', '43,59,62,67', '43,59,62,67', '43,59,62,67', '43,59,62,67', '43,59,62,67', '43,59,62,67', '43,59,62,67', '43,59,62,67', '43,59,62,67', '43,59,62,67', '43,59,62,67', '43,59,62,67', '59,62,67', '59,62,67', '47,59,62,67', '47,59,62,67', '47,59,62,67', '47,59,62,67', '59,62,67', '59,62,67', '59,62,67', '59,62,67', '59,62,67', '59,62,67', '59,62,67', '59,62,67', '59,62,67', '59,62,67', '50,59,62,67', '50,59,62,67', '50,59,62,67', '50,59,62,67', '50,59,62,67', '50,59,62,67', '59,62,67', '59,62,67', '59,62,67', '59,62,67', '59,62,67', '59,62,67', '59,62,67', '59,62,67', '59,62,67', '59,62,67', '59,62,67', '59,62,67', '59,62,67'] 59,62,67\n",
      "['61,76', '61,76', '57,61,69,76', '57,61,69,76', '57,61,69,76', '57,61,69,76', '57,61,69,76', '57,61,69,76', '57,61,69,76', '57,61,69,76', '57,61,69,76', '57,61,69,76,77', '57,61,69,76,77', '57,61,69,76,77', '57,61,69,76,77', '57,61,69,76,77', '57,61,69,76,77', '57,61,69,76,77', '57,61,67,69,76,77', '57,61,67,69,76,77', '57,61,67,69,76,77', '57,61,67,69,76,77', '57,61,67,69,76,77', '57,61,67,69,76,77', '57,61,67,69,73,76,77,81', '57,61,67,69,73,76,77,81', '57,61,67,69,73,76,77,81', '57,61,67,69,73,76,77,81', '57,61,67,69,73,76,77,81', '57,61,67,69,73,76,77,81', '57,61,67,69,73,76,77,81', '57,61,67,69,73,76,77,81', '57,61,67,69,73,76,77,81', '57,61,67,69,73,76,77,81', '57,61,67,69,73,76,77,81', '57,61,67,69,73,76,77,81', '57,61,67,69,73,76,77,81', '57,61,67,69,73,76,77,81', '53,57,61,67,69,70,73,74,76,77,81', '53,70,74', '53,70,74', '53,70,74', '53,70,74', '53,70,74', '53,70,74', '53,70,74', '53,57,69,70,74', '53,57,69,70,74', '53,57,69,70,74', '53,57,69,70,74'] 53,57,69,70,74\n",
      "['e', 'e', 'e', 'e', 'e', 'e', 'e', 'e', 'e', 'e', 'e', 'e', 'e', 'e', 'e', 'e', 'e', '62', '43,59,62,67', '43,59,62,67', '43,59,62,67', '43,59,62,67', '43,59,62,67', '43,59,62,67', '43,59,62,67', '43,59,62,67', '43,59,62,67', '43,59,62,67', '43,59,62,67', '43,59,62,67', '43,59,62,67', '43,59,62,67', '43,59,62,67', '43,59,62,67', '43,59,62,67', '43,59,62,67', '43,59,62,67', '43,59,62,67', '43,59,62,67', '43,59,62,67', '43,59,62,67', '43,59,62,67', '43,59,62,67', '43,59,62,67', '43,59,62,67', '43,59,62,67', '43,59,62,67', '43,59,62,67', '43,59,62,67', '43,59,62,67'] 43,59,62,67\n",
      "['e', '64,72', '72', 'e', '67', '67', 'e', 'e', '60,69', '69', 'e', '72', '72', 'e', 'e', '64', 'e', 'e', 'e', '67', 'e', 'e', '62,66', '66', 'e', 'e', '69', '69', 'e', 'e', '60,62', '60', 'e', '59,64', '59,64', '59', '57,66', '66', 'e', '55', '55,67', '55,67', '55', '54,69', '54,69', '54,69', '52,71', '52,71', '52', '50,72'] 50,72\n",
      "['62,71,79', '62,71,79', '62,71,79', '62,69,78,79', '62,69,78', '62,69,78', '62,69,78', '62,69,74', '62,69,74', '62,69,74', '62,69', '61,69,81', '61,69,81', '69,81', '69,81', '62,69', '62,69,78', '62,69,78', '62,69,78', '62,69', '62,69,74', '62,69,74', '62,69', '62', '62,71,79', '62,71,79', '62,71,79', '62,71,79', '62,69,78', '62,69,78', '62,69', '62,69', '62,69,74', '62,69,74', '62,69,74', '62,69', '69,81', '61,69,81', '61,69,81', '69,81', '69,78,81', '62,69,78', '62,78', '62,78', '62,66,81', '66,81', '66,81', '66', '69,84', '69,84'] 69,84\n",
      "['57,59', '57,59', '55,57,59', '55,57,59', '55,57,59', '55,57,59', '55,57,59', '55,57,59', '55,57,59', '55,57,59', '55,57,59,74', '55,57,59,64,69,74', '55,64,69,74', '55,64,69,74', '55,64,69,74', '55,64,69,74', '55,64,69,74', '55,64,69,74', '55,64,69,74', '55,64,69,74', '55,64,69,74', '55,64,69,74', '55,64,69,74', '55,64,69,74', '55,64,69,73', '55,64,69,73', '55,64,69,73', '55,64,69,73', '55,64,69,73', '55,73', '55,73', '55,73', '55,73', '55,73', '55,73', '55,73', '55,73', '55,73', '55,73', '55,73', '55,59,73', '55,59,73', '55,59,73', '55,59,73', '55,57,59,73,76', '55,57,59,73,76', '55,57,59,73,76', '55,57,59,73,76', '55,57,59,73,76', '55,57,59,73,76'] 55,57,59,73,76\n",
      "['67,79', '67,79', '57,67,79', '57,67,79', '57,67,79', '59,67,79', '59,67,79', '59,67,79', '59,67,79', '67,79', '60,67,79', '67,79', '67,79', '55,67,74,79', '55,74,79', '55,74', '55,74', '74', '60,74,76', '76', '76', '76', '79', '79', '79', '79', '59,74', '59,74', '59,74', '59,74', '60,76', '76', '76', '76', '79', '79', '79', '79', '55,71,79', '55,71', '55,71', '55', '57,72', '57,72', '57,72', '72', '72', '60,72', '60,72', '60,72'] 60,72\n",
      "['43,55,67', '43,55,67', '43,55,67', '43,55,67', '43,55,67', '43,55,67', '43,55,67', '43,55,67', '43,55,67', '43,55,67', '43,55,67', '43,55,67', 'e', 'e', 'e', 'e', 'e', 'e', 'e', 'e', 'e', 'e', 'e', 'e', 'e', 'e', 'e', 'e', 'e', 'e', 'e', 'e', 'e', 'e', 'e', 'e', 'e', 'e', 'e', 'e', '55,83', 'e', 'e', 'e', 'e', 'e', 'e', 'e', 'e', 'e'] e\n",
      "['69', '69', '69', '69', '69', '57,78', '78', 'e', 'e', '60,75', 'e', 'e', 'e', 'e', '59,68', '68', '68', '68', '52,68', '52,68', '68', '68', '68', '56,77', '77', 'e', 'e', 'e', '59,75', '75', 'e', 'e', 'e', '60,76', 'e', 'e', 'e', 'e', '64', 'e', 'e', 'e', '60,78', '78', 'e', 'e', 'e', '57', 'e', 'e'] e\n",
      "['e', 'e', '59', '59', 'e', 'e', '55', '55', '55', 'e', '59', 'e', 'e', 'e', '62', '62', 'e', 'e', 'e', '52', 'e', 'e', 'e', 'e', 'e', 'e', 'e', '60', '60', '60', 'e', 'e', '57', '57', '57', '60', '60', '60', 'e', 'e', '64', '64', 'e', 'e', '54', '54', 'e', 'e', '62', '62'] 62\n",
      "['36,38,40,41,43,44,52,60,64,67,68,71,72,79,80', '36,38,40,41,43,44,52,60,64,67,68,71,72,79,80', '36,38,40,41,43,44,52,60,64,67,68,71,72,79,80', '36,38,40,41,43,44,52,60,64,67,68,71,72,79,80', '36,38,40,41,43,44,46,52,60,64,67,68,71,72,79,80', '36,38,40,41,43,44,46,52,60,64,67,68,71,72,79,80', '36,38,40,41,42,43,44,46,47,52,60,64,67,68,71,72,79,80', '36,38,40,41,42,43,44,46,47,52,60,64,67,68,71,72,79,80', '36,38,40,41,42,43,44,46,47,52,60,64,67,68,71,72,79,80', '36,38,40,41,42,43,44,46,47,48,52,60,64,67,68,71,72,79,80', '44,48', '44,48', '44,48', '44,48', '44,48', '44,48', '44,48', '44,48', '44,48', '44,48', '44,48', '44,48', '44,48', '44,48', '44,48', '44,48', '44,48', '44,48', '44,48', '44,48', '44,48', '44,48', '44,48', '44,48', '44,48', '44,48', '44,48', '44,48', '44,48', '44,48', '44,48', '44,48', '44,48', '44,48', '44,48', '39,44,48,54,56,63,68', '39,44,48,54,56,60,63,68', '39,44,48,54,56,60,63,68', '39,44,48,54,56,60,63,68', '39,44,48,54,56,60,63,68'] 39,44,48,54,56,60,63,68\n",
      "['47,62', '47,62', '47,62', 'e', '50,65', '50,65', '50,65', '50', '47,55', '47,55', '47,55', '47,55', '43,55', '43,55', '43,55', '43,55', '48,55', '48,55,64', '48,64', '48,64', '64', '45,60,64', '45,60', '45,60', '45,60', '48,64', '48,64', '48,64', '64', '67', '52,67', '52,67', 'e', '48,57', '48,57', '57', '57', '57', '45,57', '45,57', '45,57', '57', '50,57,65', '50,57,65', '50,65', '50,65', '47,62,65', '47,62', '47,62', '47,62'] 47,50,62\n",
      "['55,76', '55,76', '55,76', '54,74', '54,74', '54', '54', '52,72', '52,72', 'e', '50,71', '50,71', 'e', '54,74', '54,74', '74', 'e', '48,69', '48', 'e', '54,74', '54,74', '54', '47', '47,67', '47,67', '47,67', '47,67,74', '47,67,74', '47,67,74', '47,67,74', '45,47,66,67,74', '45', 'e', 'e', '74', '74', 'e', 'e', '47,67', 'e', 'e', '74', '74', '74', '43,74', '43,72', '72', '72', '71'] 71\n"
     ]
    }
   ],
   "source": [
    "temp_seq = []  # This should be assigned to final output sequence.\n",
    "for batch in get_batches(train, 16):\n",
    "    for seq in batch:\n",
    "        ip, op = seq[:-1], seq[-1]\n",
    "        print(ip, op)\n",
    "        temp_seq += ip\n",
    "    break\n",
    "        \n",
    "create_midi(\"open_at_your_own_risk.midi\", temp_seq, None, 30, note_velocity = 100)"
   ]
  }
 ],
 "metadata": {
  "kernelspec": {
   "display_name": "Python 3",
   "language": "python",
   "name": "python3"
  },
  "language_info": {
   "codemirror_mode": {
    "name": "ipython",
    "version": 3
   },
   "file_extension": ".py",
   "mimetype": "text/x-python",
   "name": "python",
   "nbconvert_exporter": "python",
   "pygments_lexer": "ipython3",
   "version": "3.9.2"
  }
 },
 "nbformat": 4,
 "nbformat_minor": 5
}
