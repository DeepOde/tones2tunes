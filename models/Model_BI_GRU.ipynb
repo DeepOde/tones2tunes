{
  "nbformat": 4,
  "nbformat_minor": 0,
  "metadata": {
    "colab": {
      "name": "Model_BI_GRU.ipynb",
      "provenance": [],
      "collapsed_sections": [],
      "authorship_tag": "ABX9TyNQ37pjIqfVcAtEAuvTim2E",
      "include_colab_link": true
    },
    "kernelspec": {
      "name": "python3",
      "display_name": "Python 3"
    },
    "language_info": {
      "name": "python"
    }
  },
  "cells": [
    {
      "cell_type": "markdown",
      "metadata": {
        "id": "view-in-github",
        "colab_type": "text"
      },
      "source": [
        "<a href=\"https://colab.research.google.com/github/DeepOde/tones2tunes/blob/main/models/Model_BI_GRU.ipynb\" target=\"_parent\"><img src=\"https://colab.research.google.com/assets/colab-badge.svg\" alt=\"Open In Colab\"/></a>"
      ]
    },
    {
      "cell_type": "code",
      "metadata": {
        "id": "yrrF7t5cpoJ0"
      },
      "source": [
        "import torch\n",
        "from torch import nn"
      ],
      "execution_count": null,
      "outputs": []
    },
    {
      "cell_type": "code",
      "metadata": {
        "id": "RMSYmUwH2c0A"
      },
      "source": [
        "class model1(nn.Module):\n",
        "  def __init__(self,unique_notes,dropout=0.3,output_emb=100,rnn_unit=128, dense_unit=64):\n",
        "    super().__init__()\n",
        "    # this indicates the vocabulary(unique notes in the whole input)\n",
        "    self.num_embeddings=unique_notes+1\n",
        "    # this indicates the vector representation size for each note\n",
        "    self.embedding_dim=output_emb\n",
        "    # No of hidden layers in GRU\n",
        "    self.hidden_unit=rnn_unit\n",
        "    # creating embedding layer\n",
        "    self.embedding=nn.Embedding(self.num_embeddings, self.embedding_dim)\n",
        "    # creating bidirectional GRU\n",
        "    # by default pytorch returns all the hidden state repre's\n",
        "    # for more read this [@ https://discuss.pytorch.org/t/pytorch-equivalent-to-keras-layers-lstm-return-sequences-false/53976/2]\n",
        "    self.BiGRU1=nn.GRU(self.embedding_dim,self.hidden_unit,bidirectional=True,batch_first=True)\n",
        "    # have to implement self attention(Have to check)\n",
        "\n",
        "    # adding dropout\n",
        "    self.dropout1 = nn.Dropout(dropout)\n",
        "    # adding BIGRU\n",
        "    self.BiGRU2=nn.GRU(self.hidden_unit,self.hidden_unit,bidirectional=True,batch_first=True)\n",
        "    # adding dropout\n",
        "    self.dropout2 = nn.Dropout(dropout)\n",
        "    # adding fully connected layer\n",
        "    self.fc = nn.Linear(self.hidden_unit, unique_notes+1)\n",
        "    self.softmax = nn.Softmax(dim=-1)\n",
        "  def forward(self,x):\n",
        "    x=self.embedding(x)\n",
        "    print(x.shape)\n",
        "    output, ht=self.BiGRU1(x)\n",
        "    print(output.shape,ht.shape)\n",
        "    output=output[:,:,:128]\n",
        "    output=self.dropout1(output)\n",
        "    output,ht =self.BiGRU2(output)\n",
        "    print(output.shape,ht.shape)\n",
        "    output=ht[-1]\n",
        "    output=self.dropout2(output)\n",
        "    output=self.fc(output)\n",
        "    output=self.softmax(output)\n",
        "    return output   \n",
        "    "
      ],
      "execution_count": null,
      "outputs": []
    },
    {
      "cell_type": "code",
      "metadata": {
        "id": "dWnVZdtw0IzX"
      },
      "source": [
        "model=model1(100)"
      ],
      "execution_count": null,
      "outputs": []
    },
    {
      "cell_type": "code",
      "metadata": {
        "id": "1hHPD9mA2UEB"
      },
      "source": [
        "from torchsummary import summary"
      ],
      "execution_count": null,
      "outputs": []
    },
    {
      "cell_type": "code",
      "metadata": {
        "id": "_frOY8on3sIu"
      },
      "source": [
        ""
      ],
      "execution_count": null,
      "outputs": []
    },
    {
      "cell_type": "code",
      "metadata": {
        "id": "c8M0yB_I38o1"
      },
      "source": [
        "data=torch.randint(10,100,size=(10,1000))\n"
      ],
      "execution_count": null,
      "outputs": []
    },
    {
      "cell_type": "code",
      "metadata": {
        "colab": {
          "base_uri": "https://localhost:8080/"
        },
        "id": "wlD2xHOa4v7g",
        "outputId": "a92abf97-0129-44c8-c302-1cee5ca60389"
      },
      "source": [
        "model.forward(data).shape"
      ],
      "execution_count": null,
      "outputs": [
        {
          "output_type": "stream",
          "text": [
            "torch.Size([10, 1000, 100])\n",
            "torch.Size([10, 1000, 256]) torch.Size([2, 10, 128])\n",
            "torch.Size([10, 1000, 256]) torch.Size([2, 10, 128])\n"
          ],
          "name": "stdout"
        },
        {
          "output_type": "execute_result",
          "data": {
            "text/plain": [
              "tensor([[0.0083, 0.0106, 0.0099,  ..., 0.0122, 0.0112, 0.0085],\n",
              "        [0.0107, 0.0113, 0.0112,  ..., 0.0124, 0.0117, 0.0090],\n",
              "        [0.0096, 0.0089, 0.0105,  ..., 0.0100, 0.0109, 0.0089],\n",
              "        ...,\n",
              "        [0.0091, 0.0102, 0.0109,  ..., 0.0110, 0.0105, 0.0084],\n",
              "        [0.0091, 0.0094, 0.0099,  ..., 0.0092, 0.0116, 0.0103],\n",
              "        [0.0095, 0.0098, 0.0094,  ..., 0.0114, 0.0096, 0.0096]],\n",
              "       grad_fn=<SoftmaxBackward>)"
            ]
          },
          "metadata": {
            "tags": []
          },
          "execution_count": 110
        }
      ]
    },
    {
      "cell_type": "code",
      "metadata": {
        "id": "Bg4HBjCC5uYh"
      },
      "source": [
        ""
      ],
      "execution_count": null,
      "outputs": []
    },
    {
      "cell_type": "code",
      "metadata": {
        "id": "m2vJknEA_OSA"
      },
      "source": [
        "o,h=BiGRU1(torch.randn(10,50,100))"
      ],
      "execution_count": null,
      "outputs": []
    },
    {
      "cell_type": "code",
      "metadata": {
        "colab": {
          "base_uri": "https://localhost:8080/"
        },
        "id": "ieRcAOh8_f5h",
        "outputId": "627db7d4-f2a8-4a55-f457-3c7ac6e7d672"
      },
      "source": [
        "o[:,:,:128].shape"
      ],
      "execution_count": null,
      "outputs": [
        {
          "output_type": "execute_result",
          "data": {
            "text/plain": [
              "torch.Size([10, 50, 128])"
            ]
          },
          "metadata": {
            "tags": []
          },
          "execution_count": 88
        }
      ]
    },
    {
      "cell_type": "code",
      "metadata": {
        "colab": {
          "base_uri": "https://localhost:8080/"
        },
        "id": "EdKOCqqn_rXx",
        "outputId": "bbc229cc-bafd-4b4e-944d-0101e37b87de"
      },
      "source": [
        "h.shape"
      ],
      "execution_count": null,
      "outputs": [
        {
          "output_type": "execute_result",
          "data": {
            "text/plain": [
              "torch.Size([2, 10, 128])"
            ]
          },
          "metadata": {
            "tags": []
          },
          "execution_count": 83
        }
      ]
    },
    {
      "cell_type": "code",
      "metadata": {
        "id": "500Aysr-_te4"
      },
      "source": [
        ""
      ],
      "execution_count": null,
      "outputs": []
    }
  ]
}