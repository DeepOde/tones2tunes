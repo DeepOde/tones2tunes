{
  "nbformat": 4,
  "nbformat_minor": 0,
  "metadata": {
    "colab": {
      "name": "Model1_RNN.ipynb",
      "provenance": [],
      "authorship_tag": "ABX9TyMpdU4DGiyNTgqo/N8QBW2v",
      "include_colab_link": true
    },
    "kernelspec": {
      "name": "python3",
      "display_name": "Python 3"
    },
    "language_info": {
      "name": "python"
    }
  },
  "cells": [
    {
      "cell_type": "markdown",
      "metadata": {
        "id": "view-in-github",
        "colab_type": "text"
      },
      "source": [
        "<a href=\"https://colab.research.google.com/github/DeepOde/tones2tunes/blob/main/models/Model_BI_GRU.ipynb\" target=\"_parent\"><img src=\"https://colab.research.google.com/assets/colab-badge.svg\" alt=\"Open In Colab\"/></a>"
      ]
    },
    {
      "cell_type": "code",
      "metadata": {
        "id": "yrrF7t5cpoJ0"
      },
      "source": [
        "import torch"
      ],
      "execution_count": 1,
      "outputs": []
    },
    {
      "cell_type": "code",
      "metadata": {
        "id": "RMSYmUwH2c0A"
      },
      "source": [
        "class model1(nn.module):\n",
        "  def __init__(self,seq_len,unique_notes,dropout=0.3,output_emb=100,rnn_unit=128, dense_unit=64):\n",
        "    super().__init__()\n",
        "    # this indicates the vocabulary(unique notes in the whole input)\n",
        "    self.num_embeddings=unique_notes+1\n",
        "    # this indicates the vector representation size for each note\n",
        "    self.embedding_dim=output_emb\n",
        "    # No of hidden layers in GRU\n",
        "    self.hidden_unit=rnn_unit\n",
        "    # creating embedding layer\n",
        "    self.embedding=nn.Embedding(self.num_embeddings, self.embedding_dim)\n",
        "    # creating bidirectional GRU\n",
        "    # by default pytorch returns all the hidden state repre's\n",
        "    # for more read this [@ https://discuss.pytorch.org/t/pytorch-equivalent-to-keras-layers-lstm-return-sequences-false/53976/2]\n",
        "    self.BiGRU1=nn.GRU(self.embedding_dim,self.hidden_unit,bidirectional=True)\n",
        "    # have to implement self attention(Have to check)"
      ],
      "execution_count": null,
      "outputs": []
    }
  ]
}